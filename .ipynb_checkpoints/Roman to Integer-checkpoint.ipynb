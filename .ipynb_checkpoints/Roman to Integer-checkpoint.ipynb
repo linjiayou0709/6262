{
 "cells": [
  {
   "cell_type": "code",
   "execution_count": 37,
   "metadata": {},
   "outputs": [],
   "source": [
    "class Solution:\n",
    "     def romanToInt(self, s: str) -> int:\n",
    "        _dict= {\n",
    "            'I': 1,\n",
    "            'V': 5,\n",
    "            'X': 10,\n",
    "            'L': 50,\n",
    "            'C': 100,        #用dict把對應的數值輸入\n",
    "            'D': 500,\n",
    "            'M': 1000,\n",
    "           }\n",
    "        \n",
    "        total= 0             #此題概念由後面往前讀，如果像XI:10-1=9才能計算\n",
    "        last= 0\n",
    "        current= 0\n",
    "        \n",
    "        while s:\n",
    "            current= _dict[s[-1]]  #讀取s目前最後一個字母的值\n",
    "            s = s[:-1]             #刪掉最後一個字母\n",
    "            \n",
    "            if current >= last:  #如果目前最後的字母的值大於或等於last，代表要累加 EX: VI:5+1=6\n",
    "                total += current #把current值儲存累加到total裡\n",
    "            else:\n",
    "                total -= current #如果目前最後的字母的值小於last，代表要累減。EX: IV:5-1=4\n",
    "            \n",
    "            last = current      #把剛剛刪掉的值當作last，等等要回去和前一個字母比較大小\n",
    "            \n",
    "        return total"
   ]
  },
  {
   "cell_type": "code",
   "execution_count": 39,
   "metadata": {},
   "outputs": [
    {
     "data": {
      "text/plain": [
       "58"
      ]
     },
     "execution_count": 39,
     "metadata": {},
     "output_type": "execute_result"
    }
   ],
   "source": [
    "\n",
    "     def romanToInt(s):\n",
    "        _dict= {\n",
    "            'I': 1,\n",
    "            'V': 5,\n",
    "            'X': 10,\n",
    "            'L': 50,\n",
    "            'C': 100,                #用dict把對應的數值輸入\n",
    "            'D': 500,\n",
    "            'M': 1000,\n",
    "           }\n",
    "        \n",
    "        total= 0                    #此題概念由後面往前讀，如果像XI:10-1=9才能計算\n",
    "        last= 0\n",
    "        current= 0\n",
    "        \n",
    "        while s:\n",
    "            current= _dict[s[-1]]    #讀取s目前最後一個字母的值\n",
    "                       \n",
    "            s = s[:-1]               #刪掉最後一個字母\n",
    "            \n",
    "            \n",
    "            if current >= last:      #如果目前最後的字母的值大於或等於last，代表要累加 EX: VI:5+1=6\n",
    "                total += current     #把current值儲存累加到total裡\n",
    "            else:\n",
    "                total -= current     #如果目前最後的字母的值小於last，代表要累減。EX: IV:5-1=4\n",
    "            \n",
    "            last = current           #把剛剛刪掉的值當作last，等等要回去和前一個字母比較大小\n",
    "            \n",
    "        return total\n",
    "romanToInt('LVIII')\n"
   ]
  },
  {
   "cell_type": "code",
   "execution_count": null,
   "metadata": {},
   "outputs": [],
   "source": []
  }
 ],
 "metadata": {
  "kernelspec": {
   "display_name": "Python 3",
   "language": "python",
   "name": "python3"
  },
  "language_info": {
   "codemirror_mode": {
    "name": "ipython",
    "version": 3
   },
   "file_extension": ".py",
   "mimetype": "text/x-python",
   "name": "python",
   "nbconvert_exporter": "python",
   "pygments_lexer": "ipython3",
   "version": "3.8.3"
  }
 },
 "nbformat": 4,
 "nbformat_minor": 4
}
